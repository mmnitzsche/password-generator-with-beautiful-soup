{
 "cells": [
  {
   "cell_type": "code",
   "execution_count": null,
   "metadata": {},
   "outputs": [],
   "source": [
    "import requests\n",
    "from bs4 import BeautifulSoup\n",
    "import random\n",
    "  \n",
    "url_path = \"https://copychar.cc/\"\n",
    "\n",
    "r = requests.get(url_path)\n",
    "  \n",
    "soup = BeautifulSoup(r.content, 'html.parser') "
   ]
  },
  {
   "cell_type": "code",
   "execution_count": null,
   "metadata": {},
   "outputs": [],
   "source": [
    "all_cha = []\n",
    "\n",
    "nav = soup.find('nav').text.lower().split()\n",
    "\n",
    "for links in nav:\n",
    "    url = url_path + links\n",
    "    print(url)\n",
    "    r = requests.get(url)\n",
    "    soup = BeautifulSoup(r.content, 'html.parser')\n",
    "    raw_chac = soup.find_all(class_='symbol js-character')\n",
    "    for cha in raw_chac:\n",
    "        cha = cha.text.replace(' ','')\n",
    "        all_cha.append(cha)\n",
    "\n",
    "print(all_cha)"
   ]
  },
  {
   "cell_type": "code",
   "execution_count": null,
   "metadata": {},
   "outputs": [],
   "source": [
    "passw = input()\n",
    "s = all_cha\n",
    "s = random.sample(all_cha, int(passw))\n",
    "\n",
    "a = ''.join([str(elem) for elem in s])\n",
    "\n",
    "print(a)"
   ]
  },
  {
   "cell_type": "code",
   "execution_count": null,
   "metadata": {},
   "outputs": [],
   "source": [
    "import numpy as np\n",
    "lst = [\"aaa\",\"aazzz\",\"zzz\"]\n",
    "n = np.array(lst)\n",
    "[i for i,item in enumerate(n) if \"zzz\" in item]"
   ]
  }
 ],
 "metadata": {
  "kernelspec": {
   "display_name": "Python 3",
   "language": "python",
   "name": "python3"
  },
  "language_info": {
   "codemirror_mode": {
    "name": "ipython",
    "version": 3
   },
   "file_extension": ".py",
   "mimetype": "text/x-python",
   "name": "python",
   "nbconvert_exporter": "python",
   "pygments_lexer": "ipython3",
   "version": "3.8.5"
  }
 },
 "nbformat": 4,
 "nbformat_minor": 4
}
